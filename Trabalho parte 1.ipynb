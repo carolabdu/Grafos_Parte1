{
 "cells": [
  {
   "cell_type": "markdown",
   "metadata": {},
   "source": [
    "## Teoria dos Grafos - Parte 1"
   ]
  },
  {
   "cell_type": "code",
   "execution_count": 42,
   "metadata": {},
   "outputs": [
    {
     "name": "stdout",
     "output_type": "stream",
     "text": [
      "5\n",
      "\n",
      "0 2\n",
      "2 5\n",
      "5 3\n",
      "4 5\n",
      "1 5\n"
     ]
    }
   ],
   "source": [
    "with open(\"textoteste.txt\",\"r\") as arquivo:\n",
    "    texto = (arquivo.read())\n",
    "    vertices = int(texto[0])\n",
    "    arestas = texto[1:]\n",
    "\n",
    "\n",
    "print (vertices)\n",
    "print (arestas)\n",
    "\n"
   ]
  },
  {
   "cell_type": "code",
   "execution_count": null,
   "metadata": {},
   "outputs": [],
   "source": [
    "Class Graph: \n",
    "    def __init__(self, v, a, #adicionar tipo (lista ou matriz)):\n",
    "        self.v = v\n",
    "        self.a = a\n",
    "        self.matriz = [[0]*self.v for i in range (self.v)]\n",
    "        self.lista = [[] for i in range(self.v)] #não sabemos quantos elementos tem em cada linha\n",
    "    \n",
    "    def arestas_matriz(self, v1, v2):\n",
    "        #resolver como fazer isso do arquivo\n",
    "        self.matriz[v1-1][v2-1] = 1 #se os vértices estão conecatados \n",
    "        self.matriz[v2-1][v1-1]=1 #grafo não é direcionado, 'espelhamos' o resultado\n",
    "\n",
    "    def contruir_matriz(self,v): #pegar do vetor que contém as arestas e botar na matriz\n",
    "        for i in range(len(self.a)):\n",
    "            self.arestas_matriz(self.a[i][0], self.a[i][1])      \n",
    "\n",
    "    def arestas_lista(self, u, v):\n",
    "        self.lista[u-1].append(v) #adicionar vértice v na linha u\n",
    "        self.lista[v-1].append(u)\n",
    "\n",
    "    def contruir_lista(self,v): #pegar do vetor que contém as arestas e botar na lista\n",
    "        for i in range(len(self.a)):\n",
    "            self.arestas_lista(self.a[i][0], self.a[i][1])      \n",
    "\n",
    "    \n",
    "    def grau (self):\n",
    "        graus= [] #contruir lista com o garu de cada vértice\n",
    "        for i in range(self.v):\n",
    "            gi = 0\n",
    "            for j in range(self.v):\n",
    "                gi += self.matriz[i][j]\n",
    "            graus += [gi]\n",
    "        \n",
    "        self.graumin= 0\n",
    "        self.graumax = 0\n",
    "        self.graumed =0\n",
    "        self.mediana = 0  #ideia: botar graus em ordem e ver valor do meio\n",
    "        for k in range(len(graus)):\n",
    "            if graus[k] < self.graumin:\n",
    "                self.graumin = graus[k]\n",
    "            if graus[k] > self.graumax:\n",
    "                self.graumax = graus[k]\n",
    "            gm += graus[k]\n",
    "        self.graumed = gm/self.v\n",
    "        \n",
    "    \n",
    "    def saidas(v,a): #talvez tenha que criar outra classe pra saída\n",
    "        print('Número de vértices', self.v)\n",
    "        print(\"Número de arestas:\", print len(self.a))\n",
    "        print(\"Grau mínimo:\",self.graumin)\n",
    "        print(\"Grau máximo:\",self.graumax)\n",
    "        print(\"Grau médio:\",self.graumed)\n",
    "        print(\"Grau mediano:\",#)"
   ]
  },
  {
   "cell_type": "markdown",
   "metadata": {},
   "source": [
    "Matriz de adjacência: https://www.youtube.com/watch?v=IzG9l_7GaZM\n",
    "\n",
    "Lista de adjacência: "
   ]
  },
  {
   "cell_type": "code",
   "execution_count": 1,
   "metadata": {},
   "outputs": [
    {
     "ename": "SyntaxError",
     "evalue": "invalid syntax (719157970.py, line 1)",
     "output_type": "error",
     "traceback": [
      "\u001b[1;36m  Cell \u001b[1;32mIn[1], line 1\u001b[1;36m\u001b[0m\n\u001b[1;33m    m=\u001b[0m\n\u001b[1;37m      ^\u001b[0m\n\u001b[1;31mSyntaxError\u001b[0m\u001b[1;31m:\u001b[0m invalid syntax\n"
     ]
    }
   ],
   "source": [
    "m=\n",
    "tuplas= [[1,2],[2,5],[5,3],[4,5],[1,5]]\n",
    "print (len(tuplas))\n",
    "i=0\n",
    "while i< len(tuplas):\n",
    "            l= tuplas[i][0] -1\n",
    "            c = tuplas[i][1] -1\n",
    "            print (m[l][c])\n",
    "            m[l][c] =1\n",
    "            print(l,c)\n",
    "            print (m[l][c])\n",
    "            print(m)\n",
    "            i=i+1\n",
    "\n",
    "print (m)"
   ]
  },
  {
   "cell_type": "code",
   "execution_count": 5,
   "metadata": {},
   "outputs": [
    {
     "name": "stdout",
     "output_type": "stream",
     "text": [
      "[2, 1, 0, 1, 1]\n"
     ]
    }
   ],
   "source": [
    "matriz=[[0, 1, 0, 0, 1], [0, 0, 0, 0, 1], [0, 0, 0, 0, 0], [0, 0, 0, 0, 1], [0, 0, 1, 0, 0]]\n",
    "graus= []\n",
    "for i in range(5):\n",
    "    gi = 0\n",
    "    for j in range(5):\n",
    "        gi += matriz[i][j]\n",
    "    graus += [gi]\n",
    "print (graus)\n"
   ]
  },
  {
   "cell_type": "markdown",
   "metadata": {},
   "source": [
    "[[0, 1, 0, 0, 1], [0, 0, 0, 0, 1], [0, 0, 0, 0, 0], [0, 0, 0, 0, 1], [0, 0, 1, 0, 0]]"
   ]
  }
 ],
 "metadata": {
  "kernelspec": {
   "display_name": "Python 3",
   "language": "python",
   "name": "python3"
  },
  "language_info": {
   "codemirror_mode": {
    "name": "ipython",
    "version": 3
   },
   "file_extension": ".py",
   "mimetype": "text/x-python",
   "name": "python",
   "nbconvert_exporter": "python",
   "pygments_lexer": "ipython3",
   "version": "3.10.11"
  },
  "orig_nbformat": 4
 },
 "nbformat": 4,
 "nbformat_minor": 2
}
